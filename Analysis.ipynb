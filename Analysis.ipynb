{
 "cells": [
  {
   "cell_type": "markdown",
   "id": "df139c2b-060e-4f80-9c63-81a2e908b350",
   "metadata": {},
   "source": [
    "## Summary\n",
    "* Probability of winning against \"One Wing Jash\" is #####%\n",
    "* Num tries to have at least 90% chance of winning is ####%\n"
   ]
  },
  {
   "cell_type": "code",
   "execution_count": null,
   "id": "10af9b49-a34e-44e7-ba34-2dce6a3350e3",
   "metadata": {},
   "outputs": [],
   "source": []
  },
  {
   "cell_type": "code",
   "execution_count": null,
   "id": "88434e5a-7797-4bfb-a1cf-f929a649b6c8",
   "metadata": {},
   "outputs": [],
   "source": []
  }
 ],
 "metadata": {
  "kernelspec": {
   "display_name": "Python 3 (ipykernel)",
   "language": "python",
   "name": "python3"
  },
  "language_info": {
   "codemirror_mode": {
    "name": "ipython",
    "version": 3
   },
   "file_extension": ".py",
   "mimetype": "text/x-python",
   "name": "python",
   "nbconvert_exporter": "python",
   "pygments_lexer": "ipython3",
   "version": "3.10.4"
  }
 },
 "nbformat": 4,
 "nbformat_minor": 5
}
