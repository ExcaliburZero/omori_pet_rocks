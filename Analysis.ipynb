{
 "cells": [
  {
   "cell_type": "markdown",
   "metadata": {
    "tags": []
   },
   "source": [
    "## Summary\n",
    "* Probability of winning against \"One Wing Jash\" is ~12%\n",
    "* Num tries to have at least 90% chance of winning is ~18\n",
    "\n",
    "![plot.png](plot.png)"
   ]
  },
  {
   "cell_type": "markdown",
   "metadata": {},
   "source": [
    "## Breakdown\n",
    "Here are the details of the simulations and calculations I did to determine the results above.\n",
    "\n",
    "### Win chance\n",
    "Since I'm a software developer by trade I decided to simulate the game rather than do the proper math out...\n",
    "\n",
    "Doing a random simulation of the game over and over again (counting the wins and losses) will allow us to estimate the chance of winning the game on a single try. The more times we run the simulation (iterations), the more accurate our estimate of the win chance will be.\n",
    "\n",
    "Luckily \"One Wing Jash\" randomly chooses which move to use (rock, paper, scissors) so no matter which move we choose as the player, we always have a 1/3rd chance of hitting, 1/3rd chance of drawing, and 1/3rd chance of being hit.\n",
    "\n",
    "Either us, the player, or the enemy hitting multiple times in a row increases the combo meter and will cause their next uninterrupted hit to do more damage."
   ]
  },
  {
   "cell_type": "code",
   "execution_count": 1,
   "metadata": {},
   "outputs": [],
   "source": [
    "def simulate(player_health, enemy_health):\n",
    "    combo = 1\n",
    "    hit_last = None\n",
    "\n",
    "    while True:\n",
    "        if player_health <= 0:\n",
    "            return 0\n",
    "        elif enemy_health <= 0:\n",
    "            return 1\n",
    "\n",
    "        result = random.randint(0, 2)\n",
    "        if result == 0:\n",
    "            # Draw\n",
    "            combo = 1\n",
    "            hit_last = None\n",
    "        elif result == 1:\n",
    "            # Player hits\n",
    "            if hit_last is None or hit_last == \"player\":\n",
    "                enemy_health -= combo\n",
    "                combo += 1\n",
    "            else:\n",
    "                combo = 1\n",
    "                enemy_health -= combo\n",
    "\n",
    "            hit_last = \"player\"\n",
    "        elif result == 2:\n",
    "            # Enemy hits\n",
    "            if hit_last is None or hit_last == \"enemy\":\n",
    "                player_health -= combo\n",
    "                combo += 1\n",
    "            else:\n",
    "                combo = 1\n",
    "                player_health -= combo\n",
    "\n",
    "            hit_last = \"enemy\""
   ]
  },
  {
   "cell_type": "markdown",
   "metadata": {
    "tags": []
   },
   "source": [
    "For now we can run the simulation 100,000 times. Not sure exactly how close this will get us to the actual win chance, but it should be close enough."
   ]
  },
  {
   "cell_type": "code",
   "execution_count": null,
   "metadata": {},
   "outputs": [],
   "source": [
    "import random\n",
    "import pandas as pd\n",
    "\n",
    "# Make sure our \"random\" results are reproduceable\n",
    "random.seed(42)\n",
    "\n",
    "num_iterations = 10000000\n",
    "\n",
    "data = []\n",
    "win_count = 0\n",
    "for i in range(0, num_iterations):\n",
    "    win_count += simulate(3, 9)\n",
    "    \n",
    "    iterations = i + 1\n",
    "    \n",
    "    if iterations % 100 == 0:\n",
    "        win_percentage = win_count / float(iterations) * 100.0\n",
    "        data.append((iterations, win_count, win_percentage))\n",
    "        \n",
    "data = pd.DataFrame(data, columns=[\"iterations\", \"win_count\", \"win_percentage\"])\n",
    "data"
   ]
  },
  {
   "cell_type": "markdown",
   "metadata": {},
   "source": [
    "If we do a quick plot of the estimated win chance as we run more iterations of the simulation we can see that we converge to a particular win chance."
   ]
  },
  {
   "cell_type": "code",
   "execution_count": null,
   "metadata": {},
   "outputs": [],
   "source": [
    "from plotnine import *\n",
    "\n",
    "ggplot(data, aes(x=\"iterations\", y=\"win_percentage\")) +\\\n",
    "    geom_hline(yintercept=12.0, color=\"blue\") +\\\n",
    "    geom_point() +\\\n",
    "    geom_text(data[data[\"iterations\"] == num_iterations], label=\"12.0 %\", nudge_y=0.15, nudge_x=-3500, color=\"blue\") +\\\n",
    "    xlab(\"Game iterations\") +\\\n",
    "    ylab(\"Win Chance (%)\")"
   ]
  },
  {
   "cell_type": "code",
   "execution_count": null,
   "metadata": {},
   "outputs": [],
   "source": [
    "win_percentage = list(data.iterrows())[-1][1]['win_percentage']\n",
    "\n",
    "print(f\"Chance of winning: ~{win_percentage}%\")"
   ]
  },
  {
   "cell_type": "markdown",
   "metadata": {},
   "source": [
    "### # of tries to get >=90% chance to win"
   ]
  },
  {
   "cell_type": "code",
   "execution_count": null,
   "metadata": {},
   "outputs": [],
   "source": [
    "win_probability = win_percentage / 100.0\n",
    "\n",
    "def chance_of_at_least_one_success(p, num_tries):\n",
    "    return 1.0 - ((1.0 - p) ** num_tries)\n",
    "\n",
    "print(chance_of_at_least_one_success(0.5, 1))\n",
    "print(chance_of_at_least_one_success(0.5, 2))\n",
    "print(chance_of_at_least_one_success(0.5, 3))\n",
    "print(chance_of_at_least_one_success(0.5, 4))"
   ]
  },
  {
   "cell_type": "code",
   "execution_count": null,
   "metadata": {},
   "outputs": [],
   "source": [
    "data2 = [\n",
    "    (num_tries, chance_of_at_least_one_success(win_probability, num_tries) * 100.0)\n",
    "    for num_tries in range(0, 31)\n",
    "]\n",
    "\n",
    "data2 = pd.DataFrame(data2, columns=[\"num_tries\", \"at_least_one_win_percentage\"])\n",
    "data2"
   ]
  },
  {
   "cell_type": "code",
   "execution_count": null,
   "metadata": {},
   "outputs": [],
   "source": [
    "import matplotlib.pyplot as plt\n",
    "\n",
    "p = ggplot(data, aes(x=\"num_tries\", y=\"at_least_one_win_percentage\")) +\\\n",
    "    geom_point(data2[data2[\"num_tries\"] != 18]) +\\\n",
    "    geom_hline(yintercept=90) +\\\n",
    "    geom_text(data2[data2[\"num_tries\"] == 18], aes(label=\"num_tries\"), nudge_y=3, color=\"red\") +\\\n",
    "    geom_point(data2[data2[\"num_tries\"] == 18], color=\"red\") +\\\n",
    "    ylim(0.0, 100.0) +\\\n",
    "    xlab(\"Number of tries\") +\\\n",
    "    ylab(\"Chance of winning at least once (%)\")\n",
    "\n",
    "ggsave(plot=p, filename='plot.png', dpi=100)\n",
    "p"
   ]
  }
 ],
 "metadata": {
  "kernelspec": {
   "display_name": "Python 3",
   "language": "python",
   "name": "python3"
  },
  "language_info": {
   "codemirror_mode": {
    "name": "ipython",
    "version": 3
   },
   "file_extension": ".py",
   "mimetype": "text/x-python",
   "name": "python",
   "nbconvert_exporter": "python",
   "pygments_lexer": "ipython3",
   "version": "3.7.6"
  }
 },
 "nbformat": 4,
 "nbformat_minor": 5
}
