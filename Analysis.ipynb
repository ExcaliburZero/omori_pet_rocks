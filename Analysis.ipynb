{
 "cells": [
  {
   "cell_type": "markdown",
   "id": "cc776441",
   "metadata": {
    "tags": []
   },
   "source": [
    "# OMORI One Wing Jash win chance\n",
    "## Summary\n",
    "* Probability of winning against \"One Wing Jash\" is ~13.4%\n",
    "* Num tries to have at least 90% chance of winning is ~16\n",
    "\n",
    "![plot.png](plot.png)"
   ]
  },
  {
   "cell_type": "markdown",
   "id": "36396434",
   "metadata": {},
   "source": [
    "## Breakdown\n",
    "Here are the details of the simulations and calculations I did to determine the results above.\n",
    "\n",
    "### Win chance\n",
    "Since I'm a software developer by trade I decided to simulate the game rather than do the proper math out...\n",
    "\n",
    "Doing a random simulation of the game over and over again (counting the wins and losses) will allow us to estimate the chance of winning the game on a single try. The more times we run the simulation (iterations), the more accurate our estimate of the win chance will be.\n",
    "\n",
    "Luckily \"One Wing Jash\" randomly chooses which move to use (rock, paper, scissors) so no matter which move we choose as the player, we always have a 1/3rd chance of hitting, 1/3rd chance of drawing, and 1/3rd chance of being hit.\n",
    "\n",
    "Either us, the player, or the enemy hitting multiple times in a row increases the combo meter and will cause their next uninterrupted hit to do more damage."
   ]
  },
  {
   "cell_type": "code",
   "execution_count": 1,
   "id": "e5e6ceeb",
   "metadata": {},
   "outputs": [],
   "source": [
    "def simulate(player_health, enemy_health):\n",
    "    combo = 1\n",
    "    hit_last = None\n",
    "\n",
    "    while True:\n",
    "        if player_health <= 0:\n",
    "            return 0\n",
    "        elif enemy_health <= 0:\n",
    "            return 1\n",
    "\n",
    "        result = random.randrange(3)\n",
    "        assert result in [0, 1, 2]\n",
    "\n",
    "        if result == 0:\n",
    "            # Draw\n",
    "            combo = 1\n",
    "            hit_last = None\n",
    "        elif result == 1:\n",
    "            # Player hits\n",
    "            if hit_last == \"enemy\":\n",
    "                combo = 1\n",
    "                \n",
    "            enemy_health -= combo\n",
    "            combo += 1\n",
    "\n",
    "            hit_last = \"player\"\n",
    "        elif result == 2:\n",
    "            # Enemy hits\n",
    "            if hit_last == \"player\":\n",
    "                combo = 1\n",
    "                \n",
    "            player_health -= combo\n",
    "            combo += 1\n",
    "\n",
    "            hit_last = \"enemy\""
   ]
  },
  {
   "cell_type": "markdown",
   "id": "00d777bf",
   "metadata": {
    "tags": []
   },
   "source": [
    "For now we can run the simulation 10 million times. This should get us pretty close to the exact probability."
   ]
  },
  {
   "cell_type": "code",
   "execution_count": 2,
   "id": "aad4215f",
   "metadata": {},
   "outputs": [
    {
     "data": {
      "text/html": [
       "<div>\n",
       "<style scoped>\n",
       "    .dataframe tbody tr th:only-of-type {\n",
       "        vertical-align: middle;\n",
       "    }\n",
       "\n",
       "    .dataframe tbody tr th {\n",
       "        vertical-align: top;\n",
       "    }\n",
       "\n",
       "    .dataframe thead th {\n",
       "        text-align: right;\n",
       "    }\n",
       "</style>\n",
       "<table border=\"1\" class=\"dataframe\">\n",
       "  <thead>\n",
       "    <tr style=\"text-align: right;\">\n",
       "      <th></th>\n",
       "      <th>iterations</th>\n",
       "      <th>win_count</th>\n",
       "      <th>win_percentage</th>\n",
       "    </tr>\n",
       "  </thead>\n",
       "  <tbody>\n",
       "    <tr>\n",
       "      <th>0</th>\n",
       "      <td>1000</td>\n",
       "      <td>127</td>\n",
       "      <td>12.700000</td>\n",
       "    </tr>\n",
       "    <tr>\n",
       "      <th>1</th>\n",
       "      <td>2000</td>\n",
       "      <td>248</td>\n",
       "      <td>12.400000</td>\n",
       "    </tr>\n",
       "    <tr>\n",
       "      <th>2</th>\n",
       "      <td>3000</td>\n",
       "      <td>383</td>\n",
       "      <td>12.766667</td>\n",
       "    </tr>\n",
       "    <tr>\n",
       "      <th>3</th>\n",
       "      <td>4000</td>\n",
       "      <td>502</td>\n",
       "      <td>12.550000</td>\n",
       "    </tr>\n",
       "    <tr>\n",
       "      <th>4</th>\n",
       "      <td>5000</td>\n",
       "      <td>632</td>\n",
       "      <td>12.640000</td>\n",
       "    </tr>\n",
       "    <tr>\n",
       "      <th>...</th>\n",
       "      <td>...</td>\n",
       "      <td>...</td>\n",
       "      <td>...</td>\n",
       "    </tr>\n",
       "    <tr>\n",
       "      <th>9995</th>\n",
       "      <td>9996000</td>\n",
       "      <td>1335522</td>\n",
       "      <td>13.360564</td>\n",
       "    </tr>\n",
       "    <tr>\n",
       "      <th>9996</th>\n",
       "      <td>9997000</td>\n",
       "      <td>1335651</td>\n",
       "      <td>13.360518</td>\n",
       "    </tr>\n",
       "    <tr>\n",
       "      <th>9997</th>\n",
       "      <td>9998000</td>\n",
       "      <td>1335798</td>\n",
       "      <td>13.360652</td>\n",
       "    </tr>\n",
       "    <tr>\n",
       "      <th>9998</th>\n",
       "      <td>9999000</td>\n",
       "      <td>1335918</td>\n",
       "      <td>13.360516</td>\n",
       "    </tr>\n",
       "    <tr>\n",
       "      <th>9999</th>\n",
       "      <td>10000000</td>\n",
       "      <td>1336040</td>\n",
       "      <td>13.360400</td>\n",
       "    </tr>\n",
       "  </tbody>\n",
       "</table>\n",
       "<p>10000 rows × 3 columns</p>\n",
       "</div>"
      ],
      "text/plain": [
       "      iterations  win_count  win_percentage\n",
       "0           1000        127       12.700000\n",
       "1           2000        248       12.400000\n",
       "2           3000        383       12.766667\n",
       "3           4000        502       12.550000\n",
       "4           5000        632       12.640000\n",
       "...          ...        ...             ...\n",
       "9995     9996000    1335522       13.360564\n",
       "9996     9997000    1335651       13.360518\n",
       "9997     9998000    1335798       13.360652\n",
       "9998     9999000    1335918       13.360516\n",
       "9999    10000000    1336040       13.360400\n",
       "\n",
       "[10000 rows x 3 columns]"
      ]
     },
     "execution_count": 2,
     "metadata": {},
     "output_type": "execute_result"
    }
   ],
   "source": [
    "import random\n",
    "import pandas as pd\n",
    "\n",
    "# Make sure our \"random\" results are reproduceable\n",
    "random.seed(42)\n",
    "\n",
    "num_iterations = 10000000 # 10 million iterations\n",
    "\n",
    "data = []\n",
    "win_count = 0\n",
    "for i in range(0, num_iterations):\n",
    "    win_count += simulate(3, 9)\n",
    "\n",
    "    iterations = i + 1\n",
    "\n",
    "    # Record the results after every 1000 iterations so we can make a plot to see how the win\n",
    "    # chance estimate changes as we do more iterations\n",
    "    if iterations % 1000 == 0:\n",
    "        win_percentage = win_count / float(iterations) * 100.0\n",
    "        data.append((iterations, win_count, win_percentage))\n",
    "\n",
    "data = pd.DataFrame(data, columns=[\"iterations\", \"win_count\", \"win_percentage\"])\n",
    "data"
   ]
  },
  {
   "cell_type": "markdown",
   "id": "0db5b0f6",
   "metadata": {},
   "source": [
    "If we do a quick plot of the estimated win chance as we run more iterations of the simulation we can see that we converge to a particular win chance."
   ]
  },
  {
   "cell_type": "code",
   "execution_count": 3,
   "id": "8bd34663",
   "metadata": {},
   "outputs": [
    {
     "data": {
      "image/png": "[encoded data removed]",
      "text/plain": [
       "<Figure size 432x288 with 1 Axes>"
      ]
     },
     "metadata": {},
     "output_type": "display_data"
    },
    {
     "data": {
      "text/plain": [
       "<ggplot: (8740643343613)>"
      ]
     },
     "execution_count": 3,
     "metadata": {},
     "output_type": "execute_result"
    }
   ],
   "source": [
    "from plotnine import *\n",
    "\n",
    "ggplot(data, aes(x=\"iterations\", y=\"win_percentage\")) +\\\n",
    "    geom_hline(yintercept=13.36, color=\"blue\") +\\\n",
    "    geom_point(size=0.1) +\\\n",
    "    geom_text(data[data[\"iterations\"] == num_iterations], label=\"13.36 %\", nudge_y=0.05, nudge_x=-300000, color=\"blue\") +\\\n",
    "    xlab(\"Game iterations\") +\\\n",
    "    ylab(\"Win Chance (%)\")"
   ]
  },
  {
   "cell_type": "code",
   "execution_count": 4,
   "id": "24581e47",
   "metadata": {},
   "outputs": [
    {
     "name": "stdout",
     "output_type": "stream",
     "text": [
      "Chance of winning: ~13.3604%\n"
     ]
    }
   ],
   "source": [
    "win_percentage = list(data.iterrows())[-1][1]['win_percentage']\n",
    "\n",
    "print(f\"Chance of winning: ~{win_percentage}%\")"
   ]
  },
  {
   "cell_type": "markdown",
   "id": "578cf573-0c27-4c20-8a19-784292093fe0",
   "metadata": {},
   "source": [
    "### How close is our estimate?\n",
    "We calculated the win chance using a lot of simulated matches, so we should be really close to the exact chance, but how close are we?\n",
    "\n",
    "To find this out we can use a Beta distribution. Modelling a Beta distribution will give us a plot where the x-axis represents possible win chances and the y-axis shows how likely that win chance is the true win chance (given the simulation results).\n",
    "\n",
    "For more info on Beta distributions see:\n",
    "* https://vitalflux.com/beta-distribution-explained-with-python-examples/\n",
    "* https://en.wikipedia.org/wiki/Beta_distribution"
   ]
  },
  {
   "cell_type": "code",
   "execution_count": 5,
   "id": "44393a68-3f5f-437e-9d94-f7c39c17ccbe",
   "metadata": {},
   "outputs": [
    {
     "data": {
      "image/png": "[encoded data removed]",
      "text/plain": [
       "<Figure size 700x700 with 1 Axes>"
      ]
     },
     "metadata": {},
     "output_type": "display_data"
    }
   ],
   "source": [
    "import numpy as np\n",
    "import matplotlib.pyplot as plt\n",
    "from scipy.stats import beta\n",
    "\n",
    "a, b = win_count, num_iterations - win_count\n",
    "\n",
    "# Calculate the distribution (focusing on the 98% most likely values)\n",
    "x = np.linspace(beta.ppf(0.01, a, b),beta.ppf(0.99, a, b), 100)\n",
    "\n",
    "plt.figure(figsize=(7,7))\n",
    "plt.xlim(0.1332, 0.1340)\n",
    "plt.plot(x, beta.pdf(x, a, b), 'r-')\n",
    "plt.title('Beta Distribution', fontsize='15')\n",
    "plt.xlabel('Win chance (0.0 - 1.0)', fontsize='15')\n",
    "plt.ylabel('Probability', fontsize='15')\n",
    "plt.show()"
   ]
  },
  {
   "cell_type": "markdown",
   "id": "59ded0bc-c26c-419e-aa6b-bfe9a3a938ab",
   "metadata": {},
   "source": [
    "Looking at this  plot we can see that the true probablility is almost certainly (98% chance) within the following value range:"
   ]
  },
  {
   "cell_type": "code",
   "execution_count": 6,
   "id": "bd2052d6-7ecd-42ed-97cd-cce71796d3eb",
   "metadata": {},
   "outputs": [
    {
     "name": "stdout",
     "output_type": "stream",
     "text": [
      "0.13335 to 0.13385\n"
     ]
    }
   ],
   "source": [
    "print(round(beta.ppf(0.01, a, b), 5), \"to\", round(beta.ppf(0.99, a, b), 5))"
   ]
  },
  {
   "cell_type": "markdown",
   "id": "0995ea28",
   "metadata": {},
   "source": [
    "### Number of tries to get at least 90 percent chance to win"
   ]
  },
  {
   "cell_type": "code",
   "execution_count": 7,
   "id": "8beb139c",
   "metadata": {},
   "outputs": [
    {
     "name": "stdout",
     "output_type": "stream",
     "text": [
      "0.5\n",
      "0.75\n",
      "0.875\n",
      "0.9375\n"
     ]
    }
   ],
   "source": [
    "win_probability = win_percentage / 100.0\n",
    "\n",
    "def chance_of_at_least_one_success(p, num_tries):\n",
    "    return 1.0 - ((1.0 - p) ** num_tries)\n",
    "\n",
    "print(chance_of_at_least_one_success(0.5, 1))\n",
    "print(chance_of_at_least_one_success(0.5, 2))\n",
    "print(chance_of_at_least_one_success(0.5, 3))\n",
    "print(chance_of_at_least_one_success(0.5, 4))"
   ]
  },
  {
   "cell_type": "code",
   "execution_count": 8,
   "id": "89326f10",
   "metadata": {},
   "outputs": [
    {
     "data": {
      "text/html": [
       "<div>\n",
       "<style scoped>\n",
       "    .dataframe tbody tr th:only-of-type {\n",
       "        vertical-align: middle;\n",
       "    }\n",
       "\n",
       "    .dataframe tbody tr th {\n",
       "        vertical-align: top;\n",
       "    }\n",
       "\n",
       "    .dataframe thead th {\n",
       "        text-align: right;\n",
       "    }\n",
       "</style>\n",
       "<table border=\"1\" class=\"dataframe\">\n",
       "  <thead>\n",
       "    <tr style=\"text-align: right;\">\n",
       "      <th></th>\n",
       "      <th>num_tries</th>\n",
       "      <th>at_least_one_win_percentage</th>\n",
       "    </tr>\n",
       "  </thead>\n",
       "  <tbody>\n",
       "    <tr>\n",
       "      <th>0</th>\n",
       "      <td>0</td>\n",
       "      <td>0.000000</td>\n",
       "    </tr>\n",
       "    <tr>\n",
       "      <th>1</th>\n",
       "      <td>1</td>\n",
       "      <td>13.360400</td>\n",
       "    </tr>\n",
       "    <tr>\n",
       "      <th>2</th>\n",
       "      <td>2</td>\n",
       "      <td>24.935797</td>\n",
       "    </tr>\n",
       "    <tr>\n",
       "      <th>3</th>\n",
       "      <td>3</td>\n",
       "      <td>34.964675</td>\n",
       "    </tr>\n",
       "    <tr>\n",
       "      <th>4</th>\n",
       "      <td>4</td>\n",
       "      <td>43.653654</td>\n",
       "    </tr>\n",
       "    <tr>\n",
       "      <th>5</th>\n",
       "      <td>5</td>\n",
       "      <td>51.181752</td>\n",
       "    </tr>\n",
       "    <tr>\n",
       "      <th>6</th>\n",
       "      <td>6</td>\n",
       "      <td>57.704065</td>\n",
       "    </tr>\n",
       "    <tr>\n",
       "      <th>7</th>\n",
       "      <td>7</td>\n",
       "      <td>63.354971</td>\n",
       "    </tr>\n",
       "    <tr>\n",
       "      <th>8</th>\n",
       "      <td>8</td>\n",
       "      <td>68.250893</td>\n",
       "    </tr>\n",
       "    <tr>\n",
       "      <th>9</th>\n",
       "      <td>9</td>\n",
       "      <td>72.492701</td>\n",
       "    </tr>\n",
       "    <tr>\n",
       "      <th>10</th>\n",
       "      <td>10</td>\n",
       "      <td>76.167786</td>\n",
       "    </tr>\n",
       "    <tr>\n",
       "      <th>11</th>\n",
       "      <td>11</td>\n",
       "      <td>79.351865</td>\n",
       "    </tr>\n",
       "    <tr>\n",
       "      <th>12</th>\n",
       "      <td>12</td>\n",
       "      <td>82.110539</td>\n",
       "    </tr>\n",
       "    <tr>\n",
       "      <th>13</th>\n",
       "      <td>13</td>\n",
       "      <td>84.500642</td>\n",
       "    </tr>\n",
       "    <tr>\n",
       "      <th>14</th>\n",
       "      <td>14</td>\n",
       "      <td>86.571418</td>\n",
       "    </tr>\n",
       "    <tr>\n",
       "      <th>15</th>\n",
       "      <td>15</td>\n",
       "      <td>88.365531</td>\n",
       "    </tr>\n",
       "    <tr>\n",
       "      <th>16</th>\n",
       "      <td>16</td>\n",
       "      <td>89.919942</td>\n",
       "    </tr>\n",
       "    <tr>\n",
       "      <th>17</th>\n",
       "      <td>17</td>\n",
       "      <td>91.266678</td>\n",
       "    </tr>\n",
       "    <tr>\n",
       "      <th>18</th>\n",
       "      <td>18</td>\n",
       "      <td>92.433485</td>\n",
       "    </tr>\n",
       "    <tr>\n",
       "      <th>19</th>\n",
       "      <td>19</td>\n",
       "      <td>93.444402</td>\n",
       "    </tr>\n",
       "    <tr>\n",
       "      <th>20</th>\n",
       "      <td>20</td>\n",
       "      <td>94.320256</td>\n",
       "    </tr>\n",
       "    <tr>\n",
       "      <th>21</th>\n",
       "      <td>21</td>\n",
       "      <td>95.079092</td>\n",
       "    </tr>\n",
       "    <tr>\n",
       "      <th>22</th>\n",
       "      <td>22</td>\n",
       "      <td>95.736545</td>\n",
       "    </tr>\n",
       "    <tr>\n",
       "      <th>23</th>\n",
       "      <td>23</td>\n",
       "      <td>96.306160</td>\n",
       "    </tr>\n",
       "    <tr>\n",
       "      <th>24</th>\n",
       "      <td>24</td>\n",
       "      <td>96.799672</td>\n",
       "    </tr>\n",
       "    <tr>\n",
       "      <th>25</th>\n",
       "      <td>25</td>\n",
       "      <td>97.227248</td>\n",
       "    </tr>\n",
       "    <tr>\n",
       "      <th>26</th>\n",
       "      <td>26</td>\n",
       "      <td>97.597699</td>\n",
       "    </tr>\n",
       "    <tr>\n",
       "      <th>27</th>\n",
       "      <td>27</td>\n",
       "      <td>97.918656</td>\n",
       "    </tr>\n",
       "    <tr>\n",
       "      <th>28</th>\n",
       "      <td>28</td>\n",
       "      <td>98.196732</td>\n",
       "    </tr>\n",
       "    <tr>\n",
       "      <th>29</th>\n",
       "      <td>29</td>\n",
       "      <td>98.437656</td>\n",
       "    </tr>\n",
       "    <tr>\n",
       "      <th>30</th>\n",
       "      <td>30</td>\n",
       "      <td>98.646391</td>\n",
       "    </tr>\n",
       "  </tbody>\n",
       "</table>\n",
       "</div>"
      ],
      "text/plain": [
       "    num_tries  at_least_one_win_percentage\n",
       "0           0                     0.000000\n",
       "1           1                    13.360400\n",
       "2           2                    24.935797\n",
       "3           3                    34.964675\n",
       "4           4                    43.653654\n",
       "5           5                    51.181752\n",
       "6           6                    57.704065\n",
       "7           7                    63.354971\n",
       "8           8                    68.250893\n",
       "9           9                    72.492701\n",
       "10         10                    76.167786\n",
       "11         11                    79.351865\n",
       "12         12                    82.110539\n",
       "13         13                    84.500642\n",
       "14         14                    86.571418\n",
       "15         15                    88.365531\n",
       "16         16                    89.919942\n",
       "17         17                    91.266678\n",
       "18         18                    92.433485\n",
       "19         19                    93.444402\n",
       "20         20                    94.320256\n",
       "21         21                    95.079092\n",
       "22         22                    95.736545\n",
       "23         23                    96.306160\n",
       "24         24                    96.799672\n",
       "25         25                    97.227248\n",
       "26         26                    97.597699\n",
       "27         27                    97.918656\n",
       "28         28                    98.196732\n",
       "29         29                    98.437656\n",
       "30         30                    98.646391"
      ]
     },
     "execution_count": 8,
     "metadata": {},
     "output_type": "execute_result"
    }
   ],
   "source": [
    "data2 = [\n",
    "    (num_tries, chance_of_at_least_one_success(win_probability, num_tries) * 100.0)\n",
    "    for num_tries in range(0, 31)\n",
    "]\n",
    "\n",
    "data2 = pd.DataFrame(data2, columns=[\"num_tries\", \"at_least_one_win_percentage\"])\n",
    "data2"
   ]
  },
  {
   "cell_type": "code",
   "execution_count": 9,
   "id": "58ab9756",
   "metadata": {},
   "outputs": [
    {
     "name": "stderr",
     "output_type": "stream",
     "text": [
      "/home/chris/anaconda3/envs/omori_pet_rocks/lib/python3.10/site-packages/plotnine/ggplot.py:718: PlotnineWarning: Saving 6.4 x 4.8 in image.\n",
      "/home/chris/anaconda3/envs/omori_pet_rocks/lib/python3.10/site-packages/plotnine/ggplot.py:719: PlotnineWarning: Filename: plot.png\n"
     ]
    },
    {
     "data": {
      "image/png": "[encoded data removed]",
      "text/plain": [
       "<Figure size 640x480 with 1 Axes>"
      ]
     },
     "metadata": {},
     "output_type": "display_data"
    },
    {
     "data": {
      "text/plain": [
       "<ggplot: (8740640860743)>"
      ]
     },
     "execution_count": 9,
     "metadata": {},
     "output_type": "execute_result"
    }
   ],
   "source": [
    "import matplotlib.pyplot as plt\n",
    "\n",
    "p = ggplot(data, aes(x=\"num_tries\", y=\"at_least_one_win_percentage\")) +\\\n",
    "    geom_point(data2[data2[\"num_tries\"] != 16]) +\\\n",
    "    geom_hline(yintercept=90) +\\\n",
    "    geom_text(data2[data2[\"num_tries\"] == 16], aes(label=\"num_tries\"), nudge_y=3, color=\"red\") +\\\n",
    "    geom_text(data2[data2[\"num_tries\"] == 0], label=\"90%\", nudge_y=92) +\\\n",
    "    geom_point(data2[data2[\"num_tries\"] == 16], color=\"red\") +\\\n",
    "    ylim(0.0, 100.0) +\\\n",
    "    xlab(\"Number of tries\") +\\\n",
    "    ylab(\"Chance of winning at least once (%)\")\n",
    "\n",
    "ggsave(plot=p, filename='plot.png', dpi=100)\n",
    "p"
   ]
  },
  {
   "cell_type": "markdown",
   "id": "84009dc1-3c94-47cf-b3df-de37b4b6953b",
   "metadata": {},
   "source": [
    "## Prior works\n",
    "* [Hhhhhhhhhh7 on the OMORI Wiki](https://omori.fandom.com/wiki/Talk:PET_ROCKS) (December 2021)\n",
    "    * The code for their calculation is available [here](https://pastebin.com/TZm3PW48)\n",
    "    * They calculated a win chance of ~13.4% (agrees with my findings).\n",
    "        * The exact value calculated by their code is 13.35463730995656%\n",
    "* [u/vu47 on r/omori](https://www.reddit.com/r/OMORI/comments/ncfb1k/comment/idjj24m/?utm_source=reddit&utm_medium=web2x&context=3) (June 2022)\n",
    "    * Simulated 1 million matches using a few different settings for player and enemy choice randomization and health values.\n",
    "    * For their \"constant3 vs. uniform9\" case (comparable to the one I analyzed) they calculated a win chance of 13.37337% (agrees with my findings)."
   ]
  },
  {
   "cell_type": "markdown",
   "id": "cab675a7-2a58-4cf6-8531-e42c13a35b17",
   "metadata": {},
   "source": [
    "### Hhhhhhhhhh7's algorithm\n",
    "Hhhhhhhhhh7 took a different approach to calculating the win chance by using a dynamic programming solution that simulates each path through the game states that a match could take, tracking the probability of each state.\n",
    "\n",
    "This results in a win chance that is incredibly close to the actual value and does not take as much runtime as simulating randomized matches.\n",
    "\n",
    "Below is a Python adaptation of their algorithm:"
   ]
  },
  {
   "cell_type": "code",
   "execution_count": 10,
   "id": "c9c27662-331f-446e-95cf-d0188c391622",
   "metadata": {},
   "outputs": [
    {
     "name": "stdout",
     "output_type": "stream",
     "text": [
      "Draw fraction: 1185476006914719301616125/4977414122938492192881464029729961679802517669640314331069754317413863193300588672960378941038799444233797200629740876278809425638436874294137213623651683084623545115805694417048191856898335577690331770093271154442020977681305435856437590481321498962517248672813060123683011804992094505499691756946329466238029256908317387659245893361869285485179777099016847012698558309358412176001 ~= 0.0\n",
      "\n",
      "Win chance: 13.35463730995656%\n"
     ]
    }
   ],
   "source": [
    "from dataclasses import dataclass\n",
    "from typing import DefaultDict, Optional\n",
    "\n",
    "import collections\n",
    "import enum\n",
    "import fractions\n",
    "\n",
    "class Fighter(enum.Enum):\n",
    "    Player = enum.auto()\n",
    "    Enemy = enum.auto()\n",
    "    \n",
    "class RoundResult(enum.Enum):\n",
    "    PlayerHits = enum.auto()\n",
    "    EnemyHits = enum.auto()\n",
    "    Draw = enum.auto()\n",
    "\n",
    "@dataclass(eq=True, frozen=True)\n",
    "class GameState:\n",
    "    player_health: int\n",
    "    enemy_health: int\n",
    "    combo: int\n",
    "    hit_last: Optional[Fighter]\n",
    "    \n",
    "    def get_winner(self) -> Optional[Fighter]:\n",
    "        if self.player_health == 0:\n",
    "            return Fighter.Enemy\n",
    "        if self.enemy_health == 0:\n",
    "            return Fighter.Player\n",
    "        \n",
    "        return None\n",
    "    \n",
    "    def is_done(self) -> bool:\n",
    "        return self.get_winner() is not None\n",
    "    \n",
    "    def advance(self, result: RoundResult) -> \"GameState\":\n",
    "        # Make sure we're not trying to advance an end state\n",
    "        assert self.player_health > 0\n",
    "        assert self.enemy_health > 0\n",
    "        \n",
    "        player_health = self.player_health\n",
    "        enemy_health = self.enemy_health\n",
    "        combo = self.combo\n",
    "        hit_last = self.hit_last\n",
    "        \n",
    "        if result == RoundResult.Draw:\n",
    "            combo = 1\n",
    "            hit_last = None\n",
    "        elif result == RoundResult.PlayerHits:\n",
    "            if hit_last == \"enemy\":\n",
    "                combo = 1\n",
    "                \n",
    "            enemy_health -= combo\n",
    "            combo += 1\n",
    "\n",
    "            hit_last = \"player\"\n",
    "        elif result == RoundResult.EnemyHits:\n",
    "            if hit_last == \"player\":\n",
    "                combo = 1\n",
    "                \n",
    "            player_health -= combo\n",
    "            combo += 1\n",
    "\n",
    "            hit_last = \"enemy\"\n",
    "        else:\n",
    "            assert False\n",
    "            \n",
    "        player_health = max(player_health, 0)\n",
    "        enemy_health = max(enemy_health, 0)\n",
    "            \n",
    "        return GameState(player_health, enemy_health, combo, hit_last)\n",
    "\n",
    "# Start with just the initial state, at the beginning the initial state is always the case (1.0 = 1/1)\n",
    "# Note that we're using fraction.Fraction to avoid floating point rounding errors\n",
    "states: DefaultDict[GameState, fractions.Fraction] = collections.defaultdict(fractions.Fraction)\n",
    "states[GameState(3, 9, 1, None)] = fractions.Fraction(1, 1)\n",
    "\n",
    "# Simulate games of up to 800 rounds\n",
    "for _ in range(0, 800):\n",
    "    new_states: DefaultDict[GameState, fractions.Fraction] = collections.defaultdict(fractions.Fraction)\n",
    "\n",
    "    # For each game, it is either already done or can be simulated further\n",
    "    for state, probability in states.items():\n",
    "        if state.is_done():\n",
    "            new_states[state] += probability\n",
    "        else:\n",
    "            # Branch off into a separate simulation for each possible round result\n",
    "            for result in list(RoundResult):\n",
    "                next_state = state.advance(result)\n",
    "                next_probability = probability / 3\n",
    "\n",
    "                # Track this new simulation and combine the probability with that of any other\n",
    "                # simulations that resulted in the same game state (since all those games are\n",
    "                # equivalent)\n",
    "                new_states[next_state] += next_probability\n",
    "                \n",
    "    states = new_states\n",
    "\n",
    "# Double check that all the game state probabilities add up \n",
    "assert sum(states.values()) == 1\n",
    "\n",
    "# Because we are only simulating games up to a fixed number of rounds we will always end up with\n",
    "# some games that don't end (ex. infinitely repeated draws), let's caclulate the total probability\n",
    "# of those cases. Since we are simulating a lot of rounds this value should be negligible.\n",
    "draw_probability = sum([\n",
    "    p\n",
    "    for state, p in states.items()\n",
    "    if not state.is_done()\n",
    "])\n",
    "print(\"Draw fraction:\", draw_probability, \"~=\", float(draw_probability))\n",
    "print()\n",
    "\n",
    "# Sum up the probability of all the game states where the player wins. This should be the exact\n",
    "# win chance, since the draw probability is negligible in our case.\n",
    "win_probability = float(sum([\n",
    "    p\n",
    "    for state, p in states.items()\n",
    "    if state.get_winner() == Fighter.Player\n",
    "]))\n",
    "print(f\"Win chance: {win_probability * 100.0}%\")"
   ]
  },
  {
   "cell_type": "markdown",
   "id": "5790ee0b-4a5e-4e22-ac1b-d11ad0c76258",
   "metadata": {},
   "source": [
    "Since this algorithm results in an exact value for the win chance, I like it better than the random simulation approach I used above.\n",
    "\n",
    "#### Close wins and losses\n",
    "For fun let's also use this as an opportunity to see how close some of the losing and winning cases are."
   ]
  },
  {
   "cell_type": "code",
   "execution_count": 11,
   "id": "ea208f71-db00-43a1-ba82-aa2bcbc41c65",
   "metadata": {},
   "outputs": [
    {
     "data": {
      "text/html": [
       "<div>\n",
       "<style scoped>\n",
       "    .dataframe tbody tr th:only-of-type {\n",
       "        vertical-align: middle;\n",
       "    }\n",
       "\n",
       "    .dataframe tbody tr th {\n",
       "        vertical-align: top;\n",
       "    }\n",
       "\n",
       "    .dataframe thead th {\n",
       "        text-align: right;\n",
       "    }\n",
       "</style>\n",
       "<table border=\"1\" class=\"dataframe\">\n",
       "  <thead>\n",
       "    <tr style=\"text-align: right;\">\n",
       "      <th></th>\n",
       "      <th>player_health</th>\n",
       "      <th>enemy_health</th>\n",
       "      <th>combo</th>\n",
       "      <th>hit_last</th>\n",
       "      <th>probability</th>\n",
       "    </tr>\n",
       "  </thead>\n",
       "  <tbody>\n",
       "    <tr>\n",
       "      <th>0</th>\n",
       "      <td>3</td>\n",
       "      <td>0</td>\n",
       "      <td>5</td>\n",
       "      <td>player</td>\n",
       "      <td>0.022119</td>\n",
       "    </tr>\n",
       "    <tr>\n",
       "      <th>1</th>\n",
       "      <td>2</td>\n",
       "      <td>0</td>\n",
       "      <td>3</td>\n",
       "      <td>player</td>\n",
       "      <td>0.014301</td>\n",
       "    </tr>\n",
       "    <tr>\n",
       "      <th>2</th>\n",
       "      <td>1</td>\n",
       "      <td>0</td>\n",
       "      <td>3</td>\n",
       "      <td>player</td>\n",
       "      <td>0.016735</td>\n",
       "    </tr>\n",
       "    <tr>\n",
       "      <th>3</th>\n",
       "      <td>0</td>\n",
       "      <td>1</td>\n",
       "      <td>2</td>\n",
       "      <td>enemy</td>\n",
       "      <td>0.021609</td>\n",
       "    </tr>\n",
       "    <tr>\n",
       "      <th>4</th>\n",
       "      <td>1</td>\n",
       "      <td>0</td>\n",
       "      <td>2</td>\n",
       "      <td>player</td>\n",
       "      <td>0.012985</td>\n",
       "    </tr>\n",
       "    <tr>\n",
       "      <th>...</th>\n",
       "      <td>...</td>\n",
       "      <td>...</td>\n",
       "      <td>...</td>\n",
       "      <td>...</td>\n",
       "      <td>...</td>\n",
       "    </tr>\n",
       "    <tr>\n",
       "      <th>121</th>\n",
       "      <td>3</td>\n",
       "      <td>3</td>\n",
       "      <td>4</td>\n",
       "      <td>player</td>\n",
       "      <td>0.000000</td>\n",
       "    </tr>\n",
       "    <tr>\n",
       "      <th>122</th>\n",
       "      <td>3</td>\n",
       "      <td>6</td>\n",
       "      <td>3</td>\n",
       "      <td>player</td>\n",
       "      <td>0.000000</td>\n",
       "    </tr>\n",
       "    <tr>\n",
       "      <th>123</th>\n",
       "      <td>3</td>\n",
       "      <td>8</td>\n",
       "      <td>2</td>\n",
       "      <td>player</td>\n",
       "      <td>0.000000</td>\n",
       "    </tr>\n",
       "    <tr>\n",
       "      <th>124</th>\n",
       "      <td>2</td>\n",
       "      <td>9</td>\n",
       "      <td>2</td>\n",
       "      <td>enemy</td>\n",
       "      <td>0.000000</td>\n",
       "    </tr>\n",
       "    <tr>\n",
       "      <th>125</th>\n",
       "      <td>3</td>\n",
       "      <td>9</td>\n",
       "      <td>1</td>\n",
       "      <td>None</td>\n",
       "      <td>0.000000</td>\n",
       "    </tr>\n",
       "  </tbody>\n",
       "</table>\n",
       "<p>126 rows × 5 columns</p>\n",
       "</div>"
      ],
      "text/plain": [
       "     player_health  enemy_health  combo hit_last  probability\n",
       "0                3             0      5   player     0.022119\n",
       "1                2             0      3   player     0.014301\n",
       "2                1             0      3   player     0.016735\n",
       "3                0             1      2    enemy     0.021609\n",
       "4                1             0      2   player     0.012985\n",
       "..             ...           ...    ...      ...          ...\n",
       "121              3             3      4   player     0.000000\n",
       "122              3             6      3   player     0.000000\n",
       "123              3             8      2   player     0.000000\n",
       "124              2             9      2    enemy     0.000000\n",
       "125              3             9      1     None     0.000000\n",
       "\n",
       "[126 rows x 5 columns]"
      ]
     },
     "execution_count": 11,
     "metadata": {},
     "output_type": "execute_result"
    }
   ],
   "source": [
    "results = [\n",
    "    (state.player_health, state.enemy_health, state.combo, state.hit_last, float(probability))\n",
    "    for state, probability in states.items()\n",
    "]\n",
    "\n",
    "results = pd.DataFrame(results, columns=[\"player_health\", \"enemy_health\", \"combo\", \"hit_last\", \"probability\"])\n",
    "results"
   ]
  },
  {
   "cell_type": "code",
   "execution_count": 12,
   "id": "c35e5b8e-ce05-442b-a4fa-f2ce36a9c9d8",
   "metadata": {},
   "outputs": [
    {
     "data": {
      "image/png": "[encoded data removed]",
      "text/plain": [
       "<Figure size 640x480 with 1 Axes>"
      ]
     },
     "metadata": {},
     "output_type": "display_data"
    },
    {
     "data": {
      "text/plain": [
       "<ggplot: (8740641010007)>"
      ]
     },
     "execution_count": 12,
     "metadata": {},
     "output_type": "execute_result"
    }
   ],
   "source": [
    "wins = results[results[\"enemy_health\"] == 0].copy()\n",
    "wins[\"probability\"] = wins[\"probability\"] / sum(wins[\"probability\"])\n",
    "\n",
    "assert abs(sum(wins[\"probability\"]) - 1.0) < 0.0000001\n",
    "\n",
    "ggplot(wins, aes(\"player_health\", \"probability\")) +\\\n",
    "    geom_col() +\\\n",
    "    ggtitle(\"Closeness of Wins\") +\\\n",
    "    xlab(\"Player health at end of match\") +\\\n",
    "    ylab(\"Probability (assuming win)\")"
   ]
  },
  {
   "cell_type": "code",
   "execution_count": 13,
   "id": "abb48729-07d8-424c-80e8-a74f6233212b",
   "metadata": {},
   "outputs": [
    {
     "data": {
      "image/png": "[encoded data removed]",
      "text/plain": [
       "<Figure size 640x480 with 1 Axes>"
      ]
     },
     "metadata": {},
     "output_type": "display_data"
    },
    {
     "data": {
      "text/plain": [
       "<ggplot: (8740640874947)>"
      ]
     },
     "execution_count": 13,
     "metadata": {},
     "output_type": "execute_result"
    }
   ],
   "source": [
    "losses = results[results[\"player_health\"] == 0].copy()\n",
    "losses[\"probability\"] = losses[\"probability\"] / sum(losses[\"probability\"])\n",
    "\n",
    "assert abs(sum(losses[\"probability\"]) - 1.0) < 0.0000001\n",
    "\n",
    "ggplot(losses, aes(\"enemy_health\", \"probability\")) +\\\n",
    "    geom_col() +\\\n",
    "    ggtitle(\"Closeness of Losses\") +\\\n",
    "    xlab(\"Enemy health at end of match\") +\\\n",
    "    ylab(\"Probability (assuming loss)\") +\\\n",
    "    scale_x_discrete(breaks=list(range(1, 10)), labels=[str(n) for n in range(1, 10)], limits=list(range(1, 10)))"
   ]
  }
 ],
 "metadata": {
  "kernelspec": {
   "display_name": "Python 3 (ipykernel)",
   "language": "python",
   "name": "python3"
  },
  "language_info": {
   "codemirror_mode": {
    "name": "ipython",
    "version": 3
   },
   "file_extension": ".py",
   "mimetype": "text/x-python",
   "name": "python",
   "nbconvert_exporter": "python",
   "pygments_lexer": "ipython3",
   "version": "3.10.4"
  }
 },
 "nbformat": 4,
 "nbformat_minor": 5
}
