{
 "cells": [
  {
   "cell_type": "markdown",
   "id": "cc776441",
   "metadata": {
    "tags": []
   },
   "source": [
    "## Summary\n",
    "* Probability of winning against \"One Wing Jash\" is ~12%\n",
    "* Num tries to have at least 90% chance of winning is ~18\n",
    "\n",
    "![plot.png](plot.png)"
   ]
  },
  {
   "cell_type": "markdown",
   "id": "90cf37b7-a581-4ed3-8265-8a99f3c103fe",
   "metadata": {
    "jp-MarkdownHeadingCollapsed": true,
    "tags": []
   },
   "source": [
    "## Table of Contents\n",
    "* [Breakdown](#Breakdown)\n",
    "    * [Win chance](#Win-chance)\n",
    "    * [How close is out estimate?](#How-close-is-our-estimate?)\n",
    "    * [# of tries to get >=90% chance to win](##-of-tries-to-get-%3E=90%-chance-to-win)"
   ]
  },
  {
   "cell_type": "markdown",
   "id": "36396434",
   "metadata": {},
   "source": [
    "## Breakdown\n",
    "Here are the details of the simulations and calculations I did to determine the results above.\n",
    "\n",
    "### Win chance\n",
    "Since I'm a software developer by trade I decided to simulate the game rather than do the proper math out...\n",
    "\n",
    "Doing a random simulation of the game over and over again (counting the wins and losses) will allow us to estimate the chance of winning the game on a single try. The more times we run the simulation (iterations), the more accurate our estimate of the win chance will be.\n",
    "\n",
    "Luckily \"One Wing Jash\" randomly chooses which move to use (rock, paper, scissors) so no matter which move we choose as the player, we always have a 1/3rd chance of hitting, 1/3rd chance of drawing, and 1/3rd chance of being hit.\n",
    "\n",
    "Either us, the player, or the enemy hitting multiple times in a row increases the combo meter and will cause their next uninterrupted hit to do more damage."
   ]
  },
  {
   "cell_type": "code",
   "execution_count": 1,
   "id": "e5e6ceeb",
   "metadata": {},
   "outputs": [],
   "source": [
    "def simulate(player_health, enemy_health):\n",
    "    combo = 1\n",
    "    hit_last = None\n",
    "\n",
    "    while True:\n",
    "        if player_health <= 0:\n",
    "            return 0\n",
    "        elif enemy_health <= 0:\n",
    "            return 1\n",
    "\n",
    "        result = random.randrange(3)\n",
    "        if result == 0:\n",
    "            # Draw\n",
    "            combo = 1\n",
    "            hit_last = None\n",
    "        elif result == 1:\n",
    "            # Player hits\n",
    "            if hit_last is None or hit_last == \"player\":\n",
    "                enemy_health -= combo\n",
    "                combo += 1\n",
    "            else:\n",
    "                combo = 1\n",
    "                enemy_health -= combo\n",
    "\n",
    "            hit_last = \"player\"\n",
    "        elif result == 2:\n",
    "            # Enemy hits\n",
    "            if hit_last is None or hit_last == \"enemy\":\n",
    "                player_health -= combo\n",
    "                combo += 1\n",
    "            else:\n",
    "                combo = 1\n",
    "                player_health -= combo\n",
    "\n",
    "            hit_last = \"enemy\""
   ]
  },
  {
   "cell_type": "markdown",
   "id": "00d777bf",
   "metadata": {
    "tags": []
   },
   "source": [
    "For now we can run the simulation 100,000 times. This should get us pretty close to the exact probability."
   ]
  },
  {
   "cell_type": "code",
   "execution_count": 2,
   "id": "aad4215f",
   "metadata": {},
   "outputs": [
    {
     "data": {
      "text/html": [
       "<div>\n",
       "<style scoped>\n",
       "    .dataframe tbody tr th:only-of-type {\n",
       "        vertical-align: middle;\n",
       "    }\n",
       "\n",
       "    .dataframe tbody tr th {\n",
       "        vertical-align: top;\n",
       "    }\n",
       "\n",
       "    .dataframe thead th {\n",
       "        text-align: right;\n",
       "    }\n",
       "</style>\n",
       "<table border=\"1\" class=\"dataframe\">\n",
       "  <thead>\n",
       "    <tr style=\"text-align: right;\">\n",
       "      <th></th>\n",
       "      <th>iterations</th>\n",
       "      <th>win_count</th>\n",
       "      <th>win_percentage</th>\n",
       "    </tr>\n",
       "  </thead>\n",
       "  <tbody>\n",
       "    <tr>\n",
       "      <th>0</th>\n",
       "      <td>100</td>\n",
       "      <td>10</td>\n",
       "      <td>10.000000</td>\n",
       "    </tr>\n",
       "    <tr>\n",
       "      <th>1</th>\n",
       "      <td>200</td>\n",
       "      <td>26</td>\n",
       "      <td>13.000000</td>\n",
       "    </tr>\n",
       "    <tr>\n",
       "      <th>2</th>\n",
       "      <td>300</td>\n",
       "      <td>37</td>\n",
       "      <td>12.333333</td>\n",
       "    </tr>\n",
       "    <tr>\n",
       "      <th>3</th>\n",
       "      <td>400</td>\n",
       "      <td>45</td>\n",
       "      <td>11.250000</td>\n",
       "    </tr>\n",
       "    <tr>\n",
       "      <th>4</th>\n",
       "      <td>500</td>\n",
       "      <td>59</td>\n",
       "      <td>11.800000</td>\n",
       "    </tr>\n",
       "    <tr>\n",
       "      <th>...</th>\n",
       "      <td>...</td>\n",
       "      <td>...</td>\n",
       "      <td>...</td>\n",
       "    </tr>\n",
       "    <tr>\n",
       "      <th>99995</th>\n",
       "      <td>9999600</td>\n",
       "      <td>1197557</td>\n",
       "      <td>11.976049</td>\n",
       "    </tr>\n",
       "    <tr>\n",
       "      <th>99996</th>\n",
       "      <td>9999700</td>\n",
       "      <td>1197569</td>\n",
       "      <td>11.976049</td>\n",
       "    </tr>\n",
       "    <tr>\n",
       "      <th>99997</th>\n",
       "      <td>9999800</td>\n",
       "      <td>1197581</td>\n",
       "      <td>11.976050</td>\n",
       "    </tr>\n",
       "    <tr>\n",
       "      <th>99998</th>\n",
       "      <td>9999900</td>\n",
       "      <td>1197595</td>\n",
       "      <td>11.976070</td>\n",
       "    </tr>\n",
       "    <tr>\n",
       "      <th>99999</th>\n",
       "      <td>10000000</td>\n",
       "      <td>1197607</td>\n",
       "      <td>11.976070</td>\n",
       "    </tr>\n",
       "  </tbody>\n",
       "</table>\n",
       "<p>100000 rows × 3 columns</p>\n",
       "</div>"
      ],
      "text/plain": [
       "       iterations  win_count  win_percentage\n",
       "0             100         10       10.000000\n",
       "1             200         26       13.000000\n",
       "2             300         37       12.333333\n",
       "3             400         45       11.250000\n",
       "4             500         59       11.800000\n",
       "...           ...        ...             ...\n",
       "99995     9999600    1197557       11.976049\n",
       "99996     9999700    1197569       11.976049\n",
       "99997     9999800    1197581       11.976050\n",
       "99998     9999900    1197595       11.976070\n",
       "99999    10000000    1197607       11.976070\n",
       "\n",
       "[100000 rows x 3 columns]"
      ]
     },
     "execution_count": 2,
     "metadata": {},
     "output_type": "execute_result"
    }
   ],
   "source": [
    "import random\n",
    "import pandas as pd\n",
    "\n",
    "# Make sure our \"random\" results are reproduceable\n",
    "random.seed(42)\n",
    "\n",
    "num_iterations = 10000000 # 10 million iterations\n",
    "\n",
    "data = []\n",
    "win_count = 0\n",
    "for i in range(0, num_iterations):\n",
    "    win_count += simulate(3, 9)\n",
    "\n",
    "    iterations = i + 1\n",
    "\n",
    "    # Record the results after every 100 iterations so we can make a plot to see how the win\n",
    "    # chance estimate changes as we do more iterations\n",
    "    if iterations % 100 == 0:\n",
    "        win_percentage = win_count / float(iterations) * 100.0\n",
    "        data.append((iterations, win_count, win_percentage))\n",
    "\n",
    "data = pd.DataFrame(data, columns=[\"iterations\", \"win_count\", \"win_percentage\"])\n",
    "data"
   ]
  },
  {
   "cell_type": "markdown",
   "id": "0db5b0f6",
   "metadata": {},
   "source": [
    "If we do a quick plot of the estimated win chance as we run more iterations of the simulation we can see that we converge to a particular win chance."
   ]
  },
  {
   "cell_type": "code",
   "execution_count": 3,
   "id": "8bd34663",
   "metadata": {},
   "outputs": [
    {
     "data": {
      "image/png": "[encoded data removed]",
      "text/plain": [
       "<Figure size 432x288 with 1 Axes>"
      ]
     },
     "metadata": {},
     "output_type": "display_data"
    },
    {
     "data": {
      "text/plain": [
       "<ggplot: (8770404378874)>"
      ]
     },
     "execution_count": 3,
     "metadata": {},
     "output_type": "execute_result"
    }
   ],
   "source": [
    "from plotnine import *\n",
    "\n",
    "ggplot(data, aes(x=\"iterations\", y=\"win_percentage\")) +\\\n",
    "    geom_hline(yintercept=12.0, color=\"blue\") +\\\n",
    "    geom_point(size=0.1) +\\\n",
    "    geom_text(data[data[\"iterations\"] == num_iterations], label=\"12.0 %\", nudge_y=0.14, nudge_x=-300000, color=\"blue\") +\\\n",
    "    xlab(\"Game iterations\") +\\\n",
    "    ylab(\"Win Chance (%)\")"
   ]
  },
  {
   "cell_type": "code",
   "execution_count": 4,
   "id": "24581e47",
   "metadata": {},
   "outputs": [
    {
     "name": "stdout",
     "output_type": "stream",
     "text": [
      "Chance of winning: ~11.97607%\n"
     ]
    }
   ],
   "source": [
    "win_percentage = list(data.iterrows())[-1][1]['win_percentage']\n",
    "\n",
    "print(f\"Chance of winning: ~{win_percentage}%\")"
   ]
  },
  {
   "cell_type": "markdown",
   "id": "578cf573-0c27-4c20-8a19-784292093fe0",
   "metadata": {},
   "source": [
    "### How close is our estimate?\n",
    "We calculated the win chance using a lot of simulated matches, so we should be really close to the exact chance, but how close are we?\n",
    "\n",
    "To find this out we can use a Beta distribution. Modelling a Beta distribution will give us a plot where the x-axis represents possible win chances and the y-axis shows how likely that win chance is the true win chance (given the simulation results).\n",
    "\n",
    "For more info on Beta distributions see:\n",
    "* https://vitalflux.com/beta-distribution-explained-with-python-examples/\n",
    "* https://en.wikipedia.org/wiki/Beta_distribution"
   ]
  },
  {
   "cell_type": "code",
   "execution_count": 5,
   "id": "44393a68-3f5f-437e-9d94-f7c39c17ccbe",
   "metadata": {},
   "outputs": [
    {
     "data": {
      "image/png": "[encoded data removed]",
      "text/plain": [
       "<Figure size 700x700 with 1 Axes>"
      ]
     },
     "metadata": {},
     "output_type": "display_data"
    }
   ],
   "source": [
    "import numpy as np\n",
    "import matplotlib.pyplot as plt\n",
    "from scipy.stats import beta\n",
    "\n",
    "a, b = win_count, num_iterations - win_count\n",
    "\n",
    "# Calculate the distribution (focusing on the 98% most likely values)\n",
    "x = np.linspace(beta.ppf(0.01, a, b),beta.ppf(0.99, a, b), 100)\n",
    "\n",
    "plt.figure(figsize=(7,7))\n",
    "plt.xlim(0.1175, 0.1225)\n",
    "plt.plot(x, beta.pdf(x, a, b), 'r-')\n",
    "plt.title('Beta Distribution', fontsize='15')\n",
    "plt.xlabel('Win chance (0.0 - 1.0)', fontsize='15')\n",
    "plt.ylabel('Probability', fontsize='15')\n",
    "plt.show()"
   ]
  },
  {
   "cell_type": "markdown",
   "id": "59ded0bc-c26c-419e-aa6b-bfe9a3a938ab",
   "metadata": {},
   "source": [
    "Looking at this  plot we can see that the true probablility is almost certainly (98% chance) within the following value range:"
   ]
  },
  {
   "cell_type": "code",
   "execution_count": 6,
   "id": "bd2052d6-7ecd-42ed-97cd-cce71796d3eb",
   "metadata": {},
   "outputs": [
    {
     "name": "stdout",
     "output_type": "stream",
     "text": [
      "0.1195 to 0.12\n"
     ]
    }
   ],
   "source": [
    "print(round(beta.ppf(0.01, a, b), 4), \"to\", round(beta.ppf(0.99, a, b), 4))"
   ]
  },
  {
   "cell_type": "markdown",
   "id": "0995ea28",
   "metadata": {},
   "source": [
    "### # of tries to get >=90% chance to win"
   ]
  },
  {
   "cell_type": "code",
   "execution_count": 7,
   "id": "8beb139c",
   "metadata": {},
   "outputs": [
    {
     "name": "stdout",
     "output_type": "stream",
     "text": [
      "0.5\n",
      "0.75\n",
      "0.875\n",
      "0.9375\n"
     ]
    }
   ],
   "source": [
    "win_probability = win_percentage / 100.0\n",
    "\n",
    "def chance_of_at_least_one_success(p, num_tries):\n",
    "    return 1.0 - ((1.0 - p) ** num_tries)\n",
    "\n",
    "print(chance_of_at_least_one_success(0.5, 1))\n",
    "print(chance_of_at_least_one_success(0.5, 2))\n",
    "print(chance_of_at_least_one_success(0.5, 3))\n",
    "print(chance_of_at_least_one_success(0.5, 4))"
   ]
  },
  {
   "cell_type": "code",
   "execution_count": 8,
   "id": "89326f10",
   "metadata": {},
   "outputs": [
    {
     "data": {
      "text/html": [
       "<div>\n",
       "<style scoped>\n",
       "    .dataframe tbody tr th:only-of-type {\n",
       "        vertical-align: middle;\n",
       "    }\n",
       "\n",
       "    .dataframe tbody tr th {\n",
       "        vertical-align: top;\n",
       "    }\n",
       "\n",
       "    .dataframe thead th {\n",
       "        text-align: right;\n",
       "    }\n",
       "</style>\n",
       "<table border=\"1\" class=\"dataframe\">\n",
       "  <thead>\n",
       "    <tr style=\"text-align: right;\">\n",
       "      <th></th>\n",
       "      <th>num_tries</th>\n",
       "      <th>at_least_one_win_percentage</th>\n",
       "    </tr>\n",
       "  </thead>\n",
       "  <tbody>\n",
       "    <tr>\n",
       "      <th>0</th>\n",
       "      <td>0</td>\n",
       "      <td>0.000000</td>\n",
       "    </tr>\n",
       "    <tr>\n",
       "      <th>1</th>\n",
       "      <td>1</td>\n",
       "      <td>11.976070</td>\n",
       "    </tr>\n",
       "    <tr>\n",
       "      <th>2</th>\n",
       "      <td>2</td>\n",
       "      <td>22.517877</td>\n",
       "    </tr>\n",
       "    <tr>\n",
       "      <th>3</th>\n",
       "      <td>3</td>\n",
       "      <td>31.797191</td>\n",
       "    </tr>\n",
       "    <tr>\n",
       "      <th>4</th>\n",
       "      <td>4</td>\n",
       "      <td>39.965207</td>\n",
       "    </tr>\n",
       "    <tr>\n",
       "      <th>5</th>\n",
       "      <td>5</td>\n",
       "      <td>47.155016</td>\n",
       "    </tr>\n",
       "    <tr>\n",
       "      <th>6</th>\n",
       "      <td>6</td>\n",
       "      <td>53.483768</td>\n",
       "    </tr>\n",
       "    <tr>\n",
       "      <th>7</th>\n",
       "      <td>7</td>\n",
       "      <td>59.054585</td>\n",
       "    </tr>\n",
       "    <tr>\n",
       "      <th>8</th>\n",
       "      <td>8</td>\n",
       "      <td>63.958236</td>\n",
       "    </tr>\n",
       "    <tr>\n",
       "      <th>9</th>\n",
       "      <td>9</td>\n",
       "      <td>68.274623</td>\n",
       "    </tr>\n",
       "    <tr>\n",
       "      <th>10</th>\n",
       "      <td>10</td>\n",
       "      <td>72.074076</td>\n",
       "    </tr>\n",
       "    <tr>\n",
       "      <th>11</th>\n",
       "      <td>11</td>\n",
       "      <td>75.418505</td>\n",
       "    </tr>\n",
       "    <tr>\n",
       "      <th>12</th>\n",
       "      <td>12</td>\n",
       "      <td>78.362402</td>\n",
       "    </tr>\n",
       "    <tr>\n",
       "      <th>13</th>\n",
       "      <td>13</td>\n",
       "      <td>80.953736</td>\n",
       "    </tr>\n",
       "    <tr>\n",
       "      <th>14</th>\n",
       "      <td>14</td>\n",
       "      <td>83.234730</td>\n",
       "    </tr>\n",
       "    <tr>\n",
       "      <th>15</th>\n",
       "      <td>15</td>\n",
       "      <td>85.242550</td>\n",
       "    </tr>\n",
       "    <tr>\n",
       "      <th>16</th>\n",
       "      <td>16</td>\n",
       "      <td>87.009913</td>\n",
       "    </tr>\n",
       "    <tr>\n",
       "      <th>17</th>\n",
       "      <td>17</td>\n",
       "      <td>88.565615</td>\n",
       "    </tr>\n",
       "    <tr>\n",
       "      <th>18</th>\n",
       "      <td>18</td>\n",
       "      <td>89.935005</td>\n",
       "    </tr>\n",
       "    <tr>\n",
       "      <th>19</th>\n",
       "      <td>19</td>\n",
       "      <td>91.140395</td>\n",
       "    </tr>\n",
       "    <tr>\n",
       "      <th>20</th>\n",
       "      <td>20</td>\n",
       "      <td>92.201428</td>\n",
       "    </tr>\n",
       "    <tr>\n",
       "      <th>21</th>\n",
       "      <td>21</td>\n",
       "      <td>93.135390</td>\n",
       "    </tr>\n",
       "    <tr>\n",
       "      <th>22</th>\n",
       "      <td>22</td>\n",
       "      <td>93.957501</td>\n",
       "    </tr>\n",
       "    <tr>\n",
       "      <th>23</th>\n",
       "      <td>23</td>\n",
       "      <td>94.681155</td>\n",
       "    </tr>\n",
       "    <tr>\n",
       "      <th>24</th>\n",
       "      <td>24</td>\n",
       "      <td>95.318143</td>\n",
       "    </tr>\n",
       "    <tr>\n",
       "      <th>25</th>\n",
       "      <td>25</td>\n",
       "      <td>95.878846</td>\n",
       "    </tr>\n",
       "    <tr>\n",
       "      <th>26</th>\n",
       "      <td>26</td>\n",
       "      <td>96.372398</td>\n",
       "    </tr>\n",
       "    <tr>\n",
       "      <th>27</th>\n",
       "      <td>27</td>\n",
       "      <td>96.806842</td>\n",
       "    </tr>\n",
       "    <tr>\n",
       "      <th>28</th>\n",
       "      <td>28</td>\n",
       "      <td>97.189257</td>\n",
       "    </tr>\n",
       "    <tr>\n",
       "      <th>29</th>\n",
       "      <td>29</td>\n",
       "      <td>97.525874</td>\n",
       "    </tr>\n",
       "    <tr>\n",
       "      <th>30</th>\n",
       "      <td>30</td>\n",
       "      <td>97.822177</td>\n",
       "    </tr>\n",
       "  </tbody>\n",
       "</table>\n",
       "</div>"
      ],
      "text/plain": [
       "    num_tries  at_least_one_win_percentage\n",
       "0           0                     0.000000\n",
       "1           1                    11.976070\n",
       "2           2                    22.517877\n",
       "3           3                    31.797191\n",
       "4           4                    39.965207\n",
       "5           5                    47.155016\n",
       "6           6                    53.483768\n",
       "7           7                    59.054585\n",
       "8           8                    63.958236\n",
       "9           9                    68.274623\n",
       "10         10                    72.074076\n",
       "11         11                    75.418505\n",
       "12         12                    78.362402\n",
       "13         13                    80.953736\n",
       "14         14                    83.234730\n",
       "15         15                    85.242550\n",
       "16         16                    87.009913\n",
       "17         17                    88.565615\n",
       "18         18                    89.935005\n",
       "19         19                    91.140395\n",
       "20         20                    92.201428\n",
       "21         21                    93.135390\n",
       "22         22                    93.957501\n",
       "23         23                    94.681155\n",
       "24         24                    95.318143\n",
       "25         25                    95.878846\n",
       "26         26                    96.372398\n",
       "27         27                    96.806842\n",
       "28         28                    97.189257\n",
       "29         29                    97.525874\n",
       "30         30                    97.822177"
      ]
     },
     "execution_count": 8,
     "metadata": {},
     "output_type": "execute_result"
    }
   ],
   "source": [
    "data2 = [\n",
    "    (num_tries, chance_of_at_least_one_success(win_probability, num_tries) * 100.0)\n",
    "    for num_tries in range(0, 31)\n",
    "]\n",
    "\n",
    "data2 = pd.DataFrame(data2, columns=[\"num_tries\", \"at_least_one_win_percentage\"])\n",
    "data2"
   ]
  },
  {
   "cell_type": "code",
   "execution_count": 9,
   "id": "58ab9756",
   "metadata": {},
   "outputs": [
    {
     "name": "stderr",
     "output_type": "stream",
     "text": [
      "/home/chris/anaconda3/envs/omori_pet_rocks/lib/python3.10/site-packages/plotnine/ggplot.py:718: PlotnineWarning: Saving 6.4 x 4.8 in image.\n",
      "/home/chris/anaconda3/envs/omori_pet_rocks/lib/python3.10/site-packages/plotnine/ggplot.py:719: PlotnineWarning: Filename: plot.png\n"
     ]
    },
    {
     "data": {
      "image/png": "[encoded data removed]",
      "text/plain": [
       "<Figure size 640x480 with 1 Axes>"
      ]
     },
     "metadata": {},
     "output_type": "display_data"
    },
    {
     "data": {
      "text/plain": [
       "<ggplot: (8770401782721)>"
      ]
     },
     "execution_count": 9,
     "metadata": {},
     "output_type": "execute_result"
    }
   ],
   "source": [
    "import matplotlib.pyplot as plt\n",
    "\n",
    "p = ggplot(data, aes(x=\"num_tries\", y=\"at_least_one_win_percentage\")) +\\\n",
    "    geom_point(data2[data2[\"num_tries\"] != 18]) +\\\n",
    "    geom_hline(yintercept=90) +\\\n",
    "    geom_text(data2[data2[\"num_tries\"] == 18], aes(label=\"num_tries\"), nudge_y=3, color=\"red\") +\\\n",
    "    geom_text(data2[data2[\"num_tries\"] == 0], label=\"90%\", nudge_y=92) +\\\n",
    "    geom_point(data2[data2[\"num_tries\"] == 18], color=\"red\") +\\\n",
    "    ylim(0.0, 100.0) +\\\n",
    "    xlab(\"Number of tries\") +\\\n",
    "    ylab(\"Chance of winning at least once (%)\")\n",
    "\n",
    "ggsave(plot=p, filename='plot.png', dpi=100)\n",
    "p"
   ]
  }
 ],
 "metadata": {
  "kernelspec": {
   "display_name": "Python 3 (ipykernel)",
   "language": "python",
   "name": "python3"
  },
  "language_info": {
   "codemirror_mode": {
    "name": "ipython",
    "version": 3
   },
   "file_extension": ".py",
   "mimetype": "text/x-python",
   "name": "python",
   "nbconvert_exporter": "python",
   "pygments_lexer": "ipython3",
   "version": "3.10.4"
  }
 },
 "nbformat": 4,
 "nbformat_minor": 5
}
